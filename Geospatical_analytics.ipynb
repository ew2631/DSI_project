{
 "cells": [
  {
   "cell_type": "code",
   "execution_count": 137,
   "metadata": {},
   "outputs": [
    {
     "data": {
      "text/html": [
       "<iframe id=\"igraph\" scrolling=\"no\" style=\"border:none;\" seamless=\"seamless\" src=\"https://plot.ly/~ew2631/77.embed\" height=\"525px\" width=\"100%\"></iframe>"
      ],
      "text/plain": [
       "<plotly.tools.PlotlyDisplay object>"
      ]
     },
     "execution_count": 137,
     "metadata": {},
     "output_type": "execute_result"
    }
   ],
   "source": [
    "py.icreate_animations(figure, 'gapminder_example'+str(time.time()))\n"
   ]
  },
  {
   "cell_type": "code",
   "execution_count": 277,
   "metadata": {},
   "outputs": [],
   "source": [
    "import os\n",
    "os.getcwd()\n",
    "import folium\n",
    "import folium.plugins as plugins\n",
    "import pandas as pd\n",
    "import numpy as np\n",
    "import datetime\n",
    "from datetime import datetime\n",
    "import plotly.plotly as py\n",
    "from plotly.grid_objs import Grid, Column\n",
    "from plotly.tools import FigureFactory as FF \n",
    "import time\n"
   ]
  },
  {
   "cell_type": "markdown",
   "metadata": {},
   "source": [
    "check for duplicates"
   ]
  },
  {
   "cell_type": "code",
   "execution_count": 130,
   "metadata": {},
   "outputs": [],
   "source": [
    "import pandas as pd\n",
    "a=pd.read_csv('/Users/Emily/Desktop/edtech/file.csv')\n",
    "a.drop_duplicates(subset=['positionTS','smoothedPosition/0','smoothedPosition/1'],keep=\"first\",inplace=True)\n"
   ]
  },
  {
   "cell_type": "code",
   "execution_count": 131,
   "metadata": {},
   "outputs": [],
   "source": [
    "a['time_intervals']=pd.cut(a['positionTS'], 40,labels=False)\n",
    "grouped=a.groupby(['id','time_intervals'])\n",
    "new_frame=pd.DataFrame(a.groupby(['id','time_intervals'])['smoothedPosition/0'].median())\n",
    "new_frame['smoothedPosition/1']=pd.DataFrame(a.groupby(['id','time_intervals'])['smoothedPosition/1'].median())\n",
    "new_frame=new_frame.reset_index(level=['id','time_intervals'])\n",
    "df=new_frame.drop(['id'],axis=1)\n"
   ]
  },
  {
   "cell_type": "code",
   "execution_count": 132,
   "metadata": {},
   "outputs": [],
   "source": [
    "table = FF.create_table(df)\n",
    "plotly.tools.set_credentials_file(username='ew2631', api_key='0htapsMdy7e3Jk0BjZcU')"
   ]
  },
  {
   "cell_type": "code",
   "execution_count": 133,
   "metadata": {},
   "outputs": [
    {
     "data": {
      "text/plain": [
       "'https://plot.ly/~ew2631/75/'"
      ]
     },
     "execution_count": 133,
     "metadata": {},
     "output_type": "execute_result"
    }
   ],
   "source": [
    "time_intervals=df.time_intervals.unique().tolist()\n",
    "time_intervals.sort()\n",
    "columns_2 = []\n",
    "# make grid\n",
    "minute=\"min\"\n",
    "for t in time_intervals:\n",
    "    dataset_by_t=df[df['time_intervals']==t]\n",
    "    for col_name in dataset_by_t:\n",
    "        column_name = '{header}_{minlabel}_{time}'.format(header=col_name, minlabel=minutes,\n",
    "            time=t)\n",
    "        a_column = Column(list(dataset_by_t[col_name]), column_name)\n",
    "        columns_2.append(a_column)\n",
    "# upload grid\n",
    "grid = Grid(columns_2)\n",
    "url = py.grid_ops.upload(grid, 'gapminder_grid'+str(time.time()), auto_open=False)\n",
    "url"
   ]
  },
  {
   "cell_type": "code",
   "execution_count": 134,
   "metadata": {},
   "outputs": [],
   "source": [
    "figure = {\n",
    "    'data': [],\n",
    "    'layout': {},\n",
    "    'frames': [],\n",
    "    'config': {'scrollzoom': True}\n",
    "}\n",
    "\n",
    "# fill in most of layout\n",
    "figure['layout']['xaxis'] = {'range': [df['smoothedPosition/0'].min(), df['smoothedPosition/0'].max()], 'title': 'X coordinates', 'gridcolor': '#FFFFFF'}\n",
    "figure['layout']['yaxis'] = {'range': [df['smoothedPosition/1'].min(), df['smoothedPosition/1'].max()], 'title': 'Y Coordinates', 'gridcolor': '#FFFFFF'}\n",
    "figure['layout']['hovermode'] = 'closest'\n",
    "figure['layout']['plot_bgcolor'] = 'rgb(223, 232, 243)'\n",
    "sliders_dict = {\n",
    "    'active': 0,\n",
    "    'yanchor': 'top',\n",
    "    'xanchor': 'left',\n",
    "    'currentvalue': {\n",
    "        'font': {'size': 20},\n",
    "        'prefix': 'Time Interval:',\n",
    "        'visible': True,\n",
    "        'xanchor': 'right'\n",
    "    },\n",
    "    'transition': {'duration': 300, 'easing': 'cubic-in-out'},\n",
    "    'pad': {'b': 10, 't': 50},\n",
    "    'len': 0.9,\n",
    "    'x': 0.1,\n",
    "    'y': 0,\n",
    "    'steps': []\n",
    "}\n",
    "figure['layout']['updatemenus'] = [\n",
    "    {\n",
    "        'buttons': [\n",
    "            {\n",
    "                'args': [None, {'frame': {'duration': 500, 'redraw': False},\n",
    "                         'fromcurrent': True, 'transition': {'duration': 300, 'easing': 'quadratic-in-out'}}],\n",
    "                'label': 'Play',\n",
    "                'method': 'animate'\n",
    "            },\n",
    "            {\n",
    "                'args': [[None], {'frame': {'duration': 0, 'redraw': False}, 'mode': 'immediate',\n",
    "                'transition': {'duration': 0}}],\n",
    "                'label': 'Pause',\n",
    "                'method': 'animate'\n",
    "            }\n",
    "        ],\n",
    "        'direction': 'left',\n",
    "        'pad': {'r': 10, 't': 87},\n",
    "        'showactive': False,\n",
    "        'type': 'buttons',\n",
    "        'x': 0.1,\n",
    "        'xanchor': 'right',\n",
    "        'y': 0,\n",
    "        'yanchor': 'top'\n",
    "    }\n",
    "]"
   ]
  },
  {
   "cell_type": "code",
   "execution_count": 135,
   "metadata": {},
   "outputs": [],
   "source": [
    "column_name = '{header}_{minlabel}_{time}'\n",
    "minute=\"min\"\n",
    "data_dict = {\n",
    "    'xsrc': grid.get_column_reference(col_name_template.format(header='smoothedPosition/0', minlabel=minute,\n",
    "        time=0\n",
    "    )),\n",
    "    'ysrc': grid.get_column_reference(col_name_template.format(header='smoothedPosition/1', minlabel=minute,\n",
    "        time=0\n",
    "    )),\n",
    "    'mode': 'markers',\n",
    "    'marker': {'color': '#3b528b', 'size': 5}\n",
    "}\n",
    "figure['data'].append(data_dict)\n",
    "for t in time_intervals:\n",
    "    frame = {'data': [], 'name': str(t)}\n",
    "    data_dict = {\n",
    "        'xsrc': grid.get_column_reference(col_name_template.format(header='smoothedPosition/0', minlabel=minute,\n",
    "            time=t\n",
    "        )),\n",
    "        'ysrc': grid.get_column_reference(col_name_template.format(header='smoothedPosition/1', minlabel=minute,\n",
    "            time=t\n",
    "        )),\n",
    "        'mode': 'markers',\n",
    "        'marker': {'color': '#3b528b', 'size': 5}\n",
    "    }\n",
    "    frame['data'].append(data_dict)\n",
    "    figure['frames'].append(frame)\n",
    "    slider_step = {'args': [\n",
    "        [t],\n",
    "        {'frame': {'duration': 300, 'redraw': False},\n",
    "         'mode': 'immediate',\n",
    "       'transition': {'duration': 300}}\n",
    "     ],\n",
    "     'label': t,\n",
    "     'method': 'animate'}\n",
    "    sliders_dict['steps'].append(slider_step)\n",
    "\n",
    "figure['layout']['sliders'] = [sliders_dict]"
   ]
  },
  {
   "cell_type": "code",
   "execution_count": null,
   "metadata": {},
   "outputs": [],
   "source": []
  },
  {
   "cell_type": "code",
   "execution_count": null,
   "metadata": {},
   "outputs": [],
   "source": []
  }
 ],
 "metadata": {
  "kernelspec": {
   "display_name": "Python 3",
   "language": "python",
   "name": "python3"
  },
  "language_info": {
   "codemirror_mode": {
    "name": "ipython",
    "version": 3
   },
   "file_extension": ".py",
   "mimetype": "text/x-python",
   "name": "python",
   "nbconvert_exporter": "python",
   "pygments_lexer": "ipython3",
   "version": "3.6.7"
  }
 },
 "nbformat": 4,
 "nbformat_minor": 2
}
